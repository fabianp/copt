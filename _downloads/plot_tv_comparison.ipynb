{
  "nbformat": 4,
  "metadata": {
    "kernelspec": {
      "language": "python",
      "name": "python3",
      "display_name": "Python 3"
    },
    "language_info": {
      "name": "python",
      "mimetype": "text/x-python",
      "version": "3.5.2",
      "file_extension": ".py",
      "pygments_lexer": "ipython3",
      "nbconvert_exporter": "python",
      "codemirror_mode": {
        "name": "ipython",
        "version": 3
      }
    }
  },
  "cells": [
    {
      "source": [
        "%matplotlib inline"
      ],
      "execution_count": null,
      "metadata": {
        "collapsed": false
      },
      "cell_type": "code",
      "outputs": []
    },
    {
      "source": [
        "\nTotal variation regularization\n==============================\n\nComparison of solvers with total variation regularization.\n\n"
      ],
      "metadata": {},
      "cell_type": "markdown"
    },
    {
      "source": [
        "import numpy as np\nfrom scipy import linalg\nimport pylab as plt\ncolors = ['#7fc97f', '#beaed4', '#fdc086']\n\n\nfrom copt.prox_tv import prox_tv2d, prox_tv1d_rows, prox_tv1d_cols\nfrom copt import davis_yin, proximal_gradient\nfrom copt.utils import Trace, set_mpl_style\nfrom copt.datasets import load_img1"
      ],
      "execution_count": null,
      "metadata": {
        "collapsed": false
      },
      "cell_type": "code",
      "outputs": []
    },
    {
      "source": [
        "Load an ground truth image and generate the dataset (A, b) as\n\n            b = A ground_truth + noise   ,\n\nwhere A is a random matrix\n\n"
      ],
      "metadata": {},
      "cell_type": "markdown"
    },
    {
      "source": [
        "img = load_img1()\nn_rows, n_cols = img.shape\nn_features = n_rows * n_cols\nnp.random.seed(0)\nn_samples = n_features\n#\n# plt.imshow(img, interpolation='nearest', cmap=plt.cm.Blues)\n# plt.xticks(())\n# plt.yticks(())\n# plt.show()\n\n# set L2 regularization (arbitrarily) to 1/n_samples\nl2_reg = 1.0 / n_samples\n\n\nA = np.random.uniform(-1, 1, size=(n_samples, n_features))\nfor i in range(A.shape[0]):\n    A[i] /= linalg.norm(A[i])\nb = A.dot(img.ravel()) + 1.0 * np.random.randn(n_samples)\n\n\ndef TV(w):\n    img = w.reshape((n_rows, n_cols))\n    tmp1 = np.abs(np.diff(img, axis=0))\n    tmp2 = np.abs(np.diff(img, axis=1))\n    return tmp1.sum() + tmp2.sum()\n\n\ndef obj_fun(x):\n    return 0.5 * np.linalg.norm(b - A.dot(x)) ** 2 / A.shape[0] + 0.5 * l2_reg * x.dot(x)\n\n\ndef grad(x):\n    return - A.T.dot(b - A.dot(x)) / A.shape[0] + l2_reg * x\n\n\nf, ax = plt.subplots(2, 3, sharey=False)\nall_alphas = [1e-6, 1e-3, 1e-1]\nfor i, alpha in enumerate(all_alphas):\n\n    max_iter = 5000\n    trace_three = Trace(lambda x: obj_fun(x) + alpha * TV(x))\n    out_tos = davis_yin(\n        obj_fun, grad, prox_tv1d_rows, prox_tv1d_cols, np.zeros(n_features),\n        alpha=alpha, beta=alpha, g_prox_args=(n_rows, n_cols), h_prox_args=(n_rows, n_cols),\n        callback=trace_three, max_iter=max_iter)\n\n    trace_gd = Trace(lambda x: obj_fun(x) + alpha * TV(x))\n    out_gd = proximal_gradient(\n        obj_fun, grad, prox_tv2d, np.zeros(n_features),\n        alpha=alpha, g_prox_args=(n_rows, n_cols, 1000, 1e-1),\n        max_iter=max_iter, callback=trace_gd)\n\n    ax[0, i].set_title(r'$\\lambda=%s$' % alpha)\n    ax[0, i].imshow(out_tos.x.reshape((n_rows, n_cols)),\n                    interpolation='nearest', cmap=plt.cm.Blues)\n    ax[0, i].set_xticks(())\n    ax[0, i].set_yticks(())\n\n    fmin = min(np.min(trace_three.vals), np.min(trace_gd.vals))\n    scale = (np.array(trace_three.vals) - fmin)[0]\n    ax[1, i].plot(\n        np.array(trace_three.times), (np.array(trace_three.vals) - fmin) / scale,\n        label='Three operator splitting', lw=4, marker='o', markevery=200,\n        markersize=10, color=colors[0])\n    ax[1, i].plot(\n        np.array(trace_gd.times), (np.array(trace_gd.vals) - fmin) / scale,\n        label='ProxGD', lw=4, marker='^', markersize=10, markevery=200,\n         color=colors[1])\n    # plt.legend(loc='best', frameon=False)\n    ax[1, i].set_xlabel('Time (in seconds)')\n    ax[1, i].set_yscale('log')\n    ax[1, i].grid(True)\nplt.legend(ncol=1, frameon=False)\nax[1, 0].set_ylabel('Objective minus optimum')\nplt.show()"
      ],
      "execution_count": null,
      "metadata": {
        "collapsed": false
      },
      "cell_type": "code",
      "outputs": []
    }
  ],
  "nbformat_minor": 0
}