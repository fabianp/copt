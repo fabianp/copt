{
  "nbformat": 4,
  "cells": [
    {
      "execution_count": null,
      "source": [
        "%matplotlib inline"
      ],
      "metadata": {
        "collapsed": false
      },
      "outputs": [],
      "cell_type": "code"
    },
    {
      "metadata": {},
      "source": [
        "\nTotal variation regularization\n==============================\n\nComparison of solvers with total variation regularization.\n\n"
      ],
      "cell_type": "markdown"
    },
    {
      "execution_count": null,
      "source": [
        "import numpy as np\nfrom scipy import linalg\nimport pylab as plt\ncolors = ['#7fc97f', '#beaed4', '#fdc086']\n\n\nfrom copt.prox_tv import prox_tv2d, prox_tv1d_rows, prox_tv1d_cols\nfrom copt import three_split, proximal_gradient\nfrom copt.utils import Trace, set_mpl_style\nfrom copt.datasets import load_img1"
      ],
      "metadata": {
        "collapsed": false
      },
      "outputs": [],
      "cell_type": "code"
    },
    {
      "metadata": {},
      "source": [
        "Load an ground truth image and generate the dataset (A, b) as\n\n            b = A ground_truth + noise   ,\n\nwhere A is a random matrix\n\n"
      ],
      "cell_type": "markdown"
    },
    {
      "execution_count": null,
      "source": [
        "img = load_img1()\nn_rows, n_cols = img.shape\nn_features = n_rows * n_cols\nnp.random.seed(0)\nn_samples = n_features\n\nplt.imshow(img, interpolation='nearest', cmap=plt.cm.Blues)\nplt.xticks(())\nplt.yticks(())\nplt.show()\n\n# set L2 regularization (arbitrarily) to 1/n_samples\nl2_reg = 1.0 / n_samples\n\n\nA = np.random.uniform(-1, 1, size=(n_samples, n_features))\nfor i in range(A.shape[0]):\n    A[i] /= linalg.norm(A[i])\nb = A.dot(img.ravel()) + 1.0 * np.random.randn(n_samples)\n\n\ndef TV(w):\n    img = w.reshape((n_rows, n_cols))\n    tmp1 = np.abs(np.diff(img, axis=0))\n    tmp2 = np.abs(np.diff(img, axis=1))\n    return tmp1.sum() + tmp2.sum()\n\n\ndef obj_fun(x):\n    return 0.5 * np.linalg.norm(b - A.dot(x)) ** 2 / A.shape[0] + 0.5 * l2_reg * x.dot(x)\n\n\ndef grad(x):\n    return - A.T.dot(b - A.dot(x)) / A.shape[0] + l2_reg * x"
      ],
      "metadata": {
        "collapsed": false
      },
      "outputs": [],
      "cell_type": "code"
    },
    {
      "metadata": {},
      "source": [
        "Find best step size\n\n"
      ],
      "cell_type": "markdown"
    },
    {
      "execution_count": null,
      "source": [
        "from lightning.impl.sag import get_auto_step_size, get_dataset\nds = get_dataset(A, order=\"c\")\nstep_size = get_auto_step_size(ds, l2_reg, 'squared')\n\nf, ax = plt.subplots(2, 3, sharey=False)\nplt.title('Reconstructed image')\nall_alphas = [1e-6, 1e-3, 1e-1]\nfor i, alpha in enumerate(all_alphas):\n\n    max_iter = 50000\n    backtracking = False\n    trace_three = Trace(lambda x: obj_fun(x) + alpha * TV(x))\n    out_tos = three_split(\n        obj_fun, grad, prox_tv1d_rows, prox_tv1d_cols, np.zeros(n_features),\n        alpha=alpha, beta=alpha, step_size=step_size,\n        g_prox_args=(n_rows, n_cols), h_prox_args=(n_rows, n_cols),\n        callback=trace_three, max_iter=max_iter, tol=1e-10, backtracking=backtracking)\n\n    trace_gd = Trace(lambda x: obj_fun(x) + alpha * TV(x))\n    out_gd = proximal_gradient(\n        obj_fun, grad, prox_tv2d, np.zeros(n_features),\n        alpha=alpha, g_prox_args=(n_rows, n_cols, 1000, 1e-1),\n        step_size=step_size, max_iter=max_iter, tol=1e-10,\n        backtracking=backtracking, callback=trace_gd)\n\n    ax[0, i].set_title(r'$\\lambda=%s$' % alpha)\n    ax[0, i].imshow(out_tos.x.reshape((n_rows, n_cols)),\n                    interpolation='nearest', cmap=plt.cm.Blues)\n    ax[0, i].set_xticks(())\n    ax[0, i].set_yticks(())\n\n    fmin = min(np.min(trace_three.vals), np.min(trace_gd.vals))\n    scale = (np.array(trace_three.vals) - fmin)[0]\n    ax[1, i].plot(\n        np.array(trace_three.times), (np.array(trace_three.vals) - fmin) / scale,\n        label='Three operator splitting', lw=4, marker='o', markevery=500,\n        markersize=20, color=colors[0])\n    ax[1, i].plot(\n        np.array(trace_gd.times), (np.array(trace_gd.vals) - fmin) / scale,\n        label='ProxGD', lw=4, marker='^', markersize=20, markevery=500,\n         color=colors[1])\n    # plt.legend(loc='best', frameon=False)\n    ax[1, i].set_xlabel('Time (in seconds)')\n    ax[1, i].set_yscale('log')\n    ax[1, i].grid(True)\n\nax[1, 0].set_ylabel('Objective minus optimum')\nplt.show()"
      ],
      "metadata": {
        "collapsed": false
      },
      "outputs": [],
      "cell_type": "code"
    }
  ],
  "metadata": {
    "language_info": {
      "file_extension": ".py",
      "nbconvert_exporter": "python",
      "name": "python",
      "version": "3.5.2",
      "codemirror_mode": {
        "name": "ipython",
        "version": 3
      },
      "mimetype": "text/x-python",
      "pygments_lexer": "ipython3"
    },
    "kernelspec": {
      "language": "python",
      "display_name": "Python 3",
      "name": "python3"
    }
  },
  "nbformat_minor": 0
}