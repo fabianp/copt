{
  "nbformat": 4,
  "metadata": {
    "kernelspec": {
      "language": "python",
      "name": "python3",
      "display_name": "Python 3"
    },
    "language_info": {
      "name": "python",
      "mimetype": "text/x-python",
      "version": "3.5.2",
      "file_extension": ".py",
      "pygments_lexer": "ipython3",
      "nbconvert_exporter": "python",
      "codemirror_mode": {
        "name": "ipython",
        "version": 3
      }
    }
  },
  "cells": [
    {
      "source": [
        "%matplotlib inline"
      ],
      "execution_count": null,
      "metadata": {
        "collapsed": false
      },
      "cell_type": "code",
      "outputs": []
    },
    {
      "source": [
        "\nL1-regularized logistic regression\n==================================\n\nImplementation of L1-regularized logistic regression\nusing copt.\n\n"
      ],
      "metadata": {},
      "cell_type": "markdown"
    },
    {
      "source": [
        "import numpy as np\nfrom sklearn.linear_model import logistic\nfrom copt import proximal_gradient\n\nn_samples, n_features = 100, 10\nX = np.random.randn(n_samples, n_features)\ny = np.random.randn(n_samples)\nalpha = 1.\n\n\ndef logloss(x):\n    return logistic._logistic_loss(x, X, y, 1.)\n\n\ndef fprime_logloss(x):\n    return logistic._logistic_loss_and_grad(x, X, y, 1.)[1]\n\n\ndef g_prox(x, step_size):\n    \"\"\"\n    prox of alpha * l1\n    \"\"\"\n    return np.fmax(x - step_size * alpha, 0) - \\\n        np.fmax(- x - step_size * alpha, 0)\n\n\nout = proximal_gradient(logloss, fprime_logloss, g_prox, np.zeros(n_features))\nprint('Solution', out)"
      ],
      "execution_count": null,
      "metadata": {
        "collapsed": false
      },
      "cell_type": "code",
      "outputs": []
    }
  ],
  "nbformat_minor": 0
}